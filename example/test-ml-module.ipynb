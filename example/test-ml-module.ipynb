{
 "cells": [
  {
   "cell_type": "code",
   "execution_count": 1,
   "metadata": {},
   "outputs": [],
   "source": [
    "%load_ext autoreload\n",
    "%autoreload 2\n",
    "\n",
    "import warnings\n",
    "warnings.filterwarnings(\"ignore\")\n",
    "\n",
    "import numpy as np\n",
    "import pandas as pd\n",
    "import matplotlib.pyplot as plt\n",
    "%matplotlib inline\n",
    "\n",
    "from sklearn.metrics import roc_curve, auc\n",
    "\n",
    "import ml_utils as ml"
   ]
  },
  {
   "cell_type": "markdown",
   "metadata": {},
   "source": [
    "# Load Data"
   ]
  },
  {
   "cell_type": "code",
   "execution_count": 2,
   "metadata": {
    "scrolled": false
   },
   "outputs": [],
   "source": [
    "# import the Titanic dataset\n",
    "titanic_train = pd.read_csv(\"data/titanic-train.csv\")\n",
    "titanic_test  = pd.read_csv(\"data/titanic-test.csv\")  \n",
    "\n",
    "# import the Housing dataset\n",
    "housing_train = pd.read_csv(\"data/housing-train.csv\")\n",
    "housing_test  = pd.read_csv(\"data/housing-test.csv\")"
   ]
  },
  {
   "cell_type": "markdown",
   "metadata": {},
   "source": [
    "## Clean up the Data"
   ]
  },
  {
   "cell_type": "code",
   "execution_count": 3,
   "metadata": {},
   "outputs": [],
   "source": [
    "# encode the sex of the passengers\n",
    "titanic_train.Sex = titanic_train.Sex.map({ 'male' : 0, 'female' : 1 }).astype(int)\n",
    "\n",
    "# replace missing ages with the median\n",
    "titanic_train.Age = titanic_train.Age.fillna(titanic_train.Age.median())\n",
    "\n",
    "# remove some oddly large fares\n",
    "titanic_train = titanic_train[titanic_train.Fare < 300]\n",
    "\n",
    "# log transform the fare\n",
    "titanic_train['logFare'] = np.log1p(titanic_train.Fare)\n",
    "\n",
    "# fill in passengers without cabins\n",
    "titanic_train.Cabin = titanic_train.Cabin.fillna(value='None')\n",
    "titanic_train['has_cabin'] = [0 if x == 'None' else 1 for x in titanic_train.Cabin]\n",
    "\n",
    "# fill in embarked with the mode\n",
    "titanic_train.Embarked = titanic_train.Embarked.fillna(value=titanic_train.Embarked.mode()[0])\n",
    "\n",
    "# turn Embarked into dummy variables\n",
    "titanic_train = ml.append_dummies(titanic_train, ['Embarked'])"
   ]
  },
  {
   "cell_type": "markdown",
   "metadata": {},
   "source": [
    "# Feature Importance"
   ]
  },
  {
   "cell_type": "code",
   "execution_count": 4,
   "metadata": {},
   "outputs": [],
   "source": [
    "from sklearn.preprocessing import RobustScaler\n",
    "from sklearn.model_selection import train_test_split\n",
    "\n",
    "features = ['Pclass', 'Sex', 'Age', 'SibSp', 'Parch', 'logFare', 'has_cabin', 'Q', 'S'] \n",
    "target   = 'Survived'\n",
    "logreg = ml.Pipeline([('robust', RobustScaler()), ('clf', ml.LogisticRegression())])"
   ]
  },
  {
   "cell_type": "code",
   "execution_count": 5,
   "metadata": {},
   "outputs": [
    {
     "name": "stdout",
     "output_type": "stream",
     "text": [
      "       Name|    Coef.| Std.Err.|  z-score|  p-value|   [0.025    0.975]|  Signif.\n",
      "-------------------------------------------------------------------------------------\n",
      "Intercept  | -1.9369 |  0.2143 | -9.0405 |  0.0000 | [-2.3569  -1.5170]|   True\n",
      "Pclass     | -0.6056 |  0.2310 | -2.6209 |  0.0088 | [-1.0584  -0.1527]|   True\n",
      "Sex        |  2.4510 |  0.2368 | 10.3505 |  0.0000 | [ 1.9869   2.9151]|   True\n",
      "Age        | -0.6677 |  0.1224 | -5.4532 |  0.0000 | [-0.9077  -0.4277]|   True\n",
      "SibSp      | -0.3398 |  0.1364 | -2.4914 |  0.0127 | [-0.6072  -0.0725]|   True\n",
      "Parch      | -0.1218 |  0.1403 | -0.8677 |  0.3856 | [-0.3968   0.1533]|  False\n",
      "logFare    |  0.3749 |  0.2406 |  1.5583 |  0.1192 | [-0.0966   0.8465]|  False\n",
      "has_cabin  |  0.6175 |  0.3658 |  1.6882 |  0.0914 | [-0.0994   1.3345]|  False\n",
      "Q          | -0.1765 |  0.4519 | -0.3906 |  0.6961 | [-1.0622   0.7092]|  False\n",
      "S          | -0.4144 |  0.2929 | -1.4146 |  0.1572 | [-0.9885   0.1598]|  False\n"
     ]
    }
   ],
   "source": [
    "X_train, X_test, y_train, y_test = train_test_split(titanic_train[features], titanic_train[target], test_size=0.3, random_state=1)\n",
    "logreg.fit(X_train, y_train);\n",
    "logreg.summary(features)"
   ]
  },
  {
   "cell_type": "markdown",
   "metadata": {},
   "source": [
    "# Train Models"
   ]
  },
  {
   "cell_type": "code",
   "execution_count": 7,
   "metadata": {},
   "outputs": [],
   "source": [
    "from sklearn.tree import DecisionTreeClassifier\n",
    "from sklearn.svm import SVC\n",
    "from sklearn.naive_bayes import GaussianNB\n",
    "from sklearn.naive_bayes import BernoulliNB\n",
    "\n",
    "from xgboost import XGBClassifier\n",
    "from lightgbm import LGBMClassifier"
   ]
  },
  {
   "cell_type": "code",
   "execution_count": 8,
   "metadata": {},
   "outputs": [],
   "source": [
    "# classifiers to tune\n",
    "classifiers = {'LogReg'         : ml.Pipeline([('robust', RobustScaler()), ('clf', ml.LogisticRegression())]),\n",
    "               'SVC-RBF'        : ml.Pipeline([('robust', RobustScaler()), ('clf', SVC(probability=True))]),\n",
    "               'GaussianNB'     : ml.Pipeline([('clf', GaussianNB())]),\n",
    "               'BernoulliNB'    : ml.Pipeline([('clf', BernoulliNB())]),\n",
    "               'DecisionTree'   : ml.Pipeline([('clf', DecisionTreeClassifier())]),\n",
    "               'XGBClassifier'  : ml.Pipeline([('clf', XGBClassifier())]),\n",
    "               'LGBMClassifier' : ml.Pipeline([('clf', LGBMClassifier())])\n",
    "              }\n",
    "               \n",
    "# tunable hyperparameters\n",
    "C_s = np.logspace(-3, 2, 6) # range for regularization parameters\n",
    "parameters  = {'LogReg'        : {'clf__penalty' : ['l1','l2'], \n",
    "                                  'clf__C'       : C_s},\n",
    "               'SVC-RBF'       : {'clf__C'       : C_s,\n",
    "                                  'clf__gamma'   : C_s},\n",
    "               'GaussianNB'    : {},\n",
    "               'BernoulliNB'   : {'clf__alpha'   : C_s},\n",
    "               'DecisionTree'  : {'clf__max_depth'        : [3, 4, 6, 8, 10]},\n",
    "               'XGBClassifier' : {\n",
    "                                  'clf__learning_rate'    : [0.02, 0.04, 0.06, 0.08, 0.1], \n",
    "                                  'clf__colsample_bytree' : [0.4, 0.6, 0.8, 1.0]\n",
    "                                 },\n",
    "               'LGBMClassifier': {'clf__learning_rate'    : [0.02, 0.04, 0.06, 0.08, 0.1] }\n",
    "              }\n",
    "\n",
    "# hyperparameter tuning strategies\n",
    "cv_strategy = {'LogReg'         : 'grid',\n",
    "               'SVC-RBF'        : 'grid',\n",
    "               'GaussianNB'     : 'grid',\n",
    "               'BernoulliNB'    : 'grid',\n",
    "               'DecisionTree'   : 'grid',\n",
    "               'XGBClassifier'  : 'grid',\n",
    "               'LGBMClassifier' : 'grid'\n",
    "              }\n",
    "\n",
    "# define the metrics we'll use to score the different parameters on\n",
    "scores = ['accuracy']\n",
    "\n",
    "# features and target\n",
    "features = ['Pclass', 'Sex', 'Age', 'SibSp', 'Parch', 'logFare', 'has_cabin', 'Q', 'S'] \n",
    "target   = 'Survived'\n",
    "\n",
    "# target names\n",
    "target_names = ['Died', 'Lived']"
   ]
  },
  {
   "cell_type": "markdown",
   "metadata": {},
   "source": [
    "## Cross Validation"
   ]
  },
  {
   "cell_type": "code",
   "execution_count": 9,
   "metadata": {},
   "outputs": [
    {
     "name": "stdout",
     "output_type": "stream",
     "text": [
      "Training LogReg\n",
      "\n",
      "Best parameters set found:\n",
      "\n",
      "{'clf__C': 10.0, 'clf__penalty': 'l1'}\n",
      "\n",
      "Grid scores:\n",
      "\n",
      "0.625 (+/-0.098) for {'clf__C': 0.001, 'clf__penalty': 'l1'}\n",
      "0.768 (+/-0.104) for {'clf__C': 0.001, 'clf__penalty': 'l2'}\n",
      "0.625 (+/-0.098) for {'clf__C': 0.01, 'clf__penalty': 'l1'}\n",
      "0.787 (+/-0.084) for {'clf__C': 0.01, 'clf__penalty': 'l2'}\n",
      "0.791 (+/-0.042) for {'clf__C': 0.1, 'clf__penalty': 'l1'}\n",
      "0.794 (+/-0.041) for {'clf__C': 0.1, 'clf__penalty': 'l2'}\n",
      "0.802 (+/-0.041) for {'clf__C': 1.0, 'clf__penalty': 'l1'}\n",
      "0.800 (+/-0.046) for {'clf__C': 1.0, 'clf__penalty': 'l2'}\n",
      "0.804 (+/-0.043) for {'clf__C': 10.0, 'clf__penalty': 'l1'}\n",
      "0.804 (+/-0.043) for {'clf__C': 10.0, 'clf__penalty': 'l2'}\n",
      "0.804 (+/-0.043) for {'clf__C': 100.0, 'clf__penalty': 'l1'}\n",
      "0.804 (+/-0.043) for {'clf__C': 100.0, 'clf__penalty': 'l2'}\n",
      "\n",
      "Training SVC-RBF\n",
      "\n",
      "Best parameters set found:\n",
      "\n",
      "{'clf__C': 100.0, 'clf__gamma': 0.01}\n",
      "\n",
      "Grid scores:\n",
      "\n",
      "0.625 (+/-0.098) for {'clf__C': 0.001, 'clf__gamma': 0.001}\n",
      "0.625 (+/-0.098) for {'clf__C': 0.001, 'clf__gamma': 0.01}\n",
      "0.625 (+/-0.098) for {'clf__C': 0.001, 'clf__gamma': 0.1}\n",
      "0.625 (+/-0.098) for {'clf__C': 0.001, 'clf__gamma': 1.0}\n",
      "0.625 (+/-0.098) for {'clf__C': 0.001, 'clf__gamma': 10.0}\n",
      "0.625 (+/-0.098) for {'clf__C': 0.001, 'clf__gamma': 100.0}\n",
      "0.625 (+/-0.098) for {'clf__C': 0.01, 'clf__gamma': 0.001}\n",
      "0.625 (+/-0.098) for {'clf__C': 0.01, 'clf__gamma': 0.01}\n",
      "0.625 (+/-0.098) for {'clf__C': 0.01, 'clf__gamma': 0.1}\n",
      "0.625 (+/-0.098) for {'clf__C': 0.01, 'clf__gamma': 1.0}\n",
      "0.625 (+/-0.098) for {'clf__C': 0.01, 'clf__gamma': 10.0}\n",
      "0.625 (+/-0.098) for {'clf__C': 0.01, 'clf__gamma': 100.0}\n",
      "0.625 (+/-0.098) for {'clf__C': 0.1, 'clf__gamma': 0.001}\n",
      "0.625 (+/-0.098) for {'clf__C': 0.1, 'clf__gamma': 0.01}\n",
      "0.789 (+/-0.072) for {'clf__C': 0.1, 'clf__gamma': 0.1}\n",
      "0.660 (+/-0.169) for {'clf__C': 0.1, 'clf__gamma': 1.0}\n",
      "0.625 (+/-0.098) for {'clf__C': 0.1, 'clf__gamma': 10.0}\n",
      "0.625 (+/-0.098) for {'clf__C': 0.1, 'clf__gamma': 100.0}\n",
      "0.625 (+/-0.098) for {'clf__C': 1.0, 'clf__gamma': 0.001}\n",
      "0.805 (+/-0.034) for {'clf__C': 1.0, 'clf__gamma': 0.01}\n",
      "0.831 (+/-0.035) for {'clf__C': 1.0, 'clf__gamma': 0.1}\n",
      "0.813 (+/-0.073) for {'clf__C': 1.0, 'clf__gamma': 1.0}\n",
      "0.694 (+/-0.084) for {'clf__C': 1.0, 'clf__gamma': 10.0}\n",
      "0.655 (+/-0.056) for {'clf__C': 1.0, 'clf__gamma': 100.0}\n",
      "0.802 (+/-0.057) for {'clf__C': 10.0, 'clf__gamma': 0.001}\n",
      "0.799 (+/-0.055) for {'clf__C': 10.0, 'clf__gamma': 0.01}\n",
      "0.821 (+/-0.043) for {'clf__C': 10.0, 'clf__gamma': 0.1}\n",
      "0.783 (+/-0.101) for {'clf__C': 10.0, 'clf__gamma': 1.0}\n",
      "0.696 (+/-0.099) for {'clf__C': 10.0, 'clf__gamma': 10.0}\n",
      "0.644 (+/-0.070) for {'clf__C': 10.0, 'clf__gamma': 100.0}\n",
      "0.794 (+/-0.055) for {'clf__C': 100.0, 'clf__gamma': 0.001}\n",
      "0.833 (+/-0.053) for {'clf__C': 100.0, 'clf__gamma': 0.01}\n",
      "0.812 (+/-0.056) for {'clf__C': 100.0, 'clf__gamma': 0.1}\n",
      "0.754 (+/-0.085) for {'clf__C': 100.0, 'clf__gamma': 1.0}\n",
      "0.678 (+/-0.078) for {'clf__C': 100.0, 'clf__gamma': 10.0}\n",
      "0.631 (+/-0.075) for {'clf__C': 100.0, 'clf__gamma': 100.0}\n",
      "\n",
      "Training GaussianNB\n",
      "\n",
      "Best parameters set found:\n",
      "\n",
      "{}\n",
      "\n",
      "Grid scores:\n",
      "\n",
      "0.781 (+/-0.067) for {}\n",
      "\n",
      "Training BernoulliNB\n",
      "\n",
      "Best parameters set found:\n",
      "\n",
      "{'clf__alpha': 1.0}\n",
      "\n",
      "Grid scores:\n",
      "\n",
      "0.778 (+/-0.054) for {'clf__alpha': 0.001}\n",
      "0.778 (+/-0.054) for {'clf__alpha': 0.01}\n",
      "0.776 (+/-0.058) for {'clf__alpha': 0.1}\n",
      "0.779 (+/-0.056) for {'clf__alpha': 1.0}\n",
      "0.779 (+/-0.056) for {'clf__alpha': 10.0}\n",
      "0.707 (+/-0.089) for {'clf__alpha': 100.0}\n",
      "\n",
      "Training DecisionTree\n",
      "\n",
      "Best parameters set found:\n",
      "\n",
      "{'clf__max_depth': 3}\n",
      "\n",
      "Grid scores:\n",
      "\n",
      "0.815 (+/-0.044) for {'clf__max_depth': 3}\n",
      "0.815 (+/-0.070) for {'clf__max_depth': 4}\n",
      "0.810 (+/-0.060) for {'clf__max_depth': 6}\n",
      "0.805 (+/-0.048) for {'clf__max_depth': 8}\n",
      "0.778 (+/-0.043) for {'clf__max_depth': 10}\n",
      "\n",
      "Training XGBClassifier\n",
      "\n",
      "Best parameters set found:\n",
      "\n",
      "{'clf__colsample_bytree': 1.0, 'clf__learning_rate': 0.04}\n",
      "\n",
      "Grid scores:\n",
      "\n",
      "0.820 (+/-0.052) for {'clf__colsample_bytree': 0.4, 'clf__learning_rate': 0.02}\n",
      "0.823 (+/-0.054) for {'clf__colsample_bytree': 0.4, 'clf__learning_rate': 0.04}\n",
      "0.826 (+/-0.046) for {'clf__colsample_bytree': 0.4, 'clf__learning_rate': 0.06}\n",
      "0.828 (+/-0.045) for {'clf__colsample_bytree': 0.4, 'clf__learning_rate': 0.08}\n",
      "0.818 (+/-0.066) for {'clf__colsample_bytree': 0.4, 'clf__learning_rate': 0.1}\n",
      "0.829 (+/-0.038) for {'clf__colsample_bytree': 0.6, 'clf__learning_rate': 0.02}\n",
      "0.833 (+/-0.035) for {'clf__colsample_bytree': 0.6, 'clf__learning_rate': 0.04}\n",
      "0.831 (+/-0.047) for {'clf__colsample_bytree': 0.6, 'clf__learning_rate': 0.06}\n",
      "0.829 (+/-0.045) for {'clf__colsample_bytree': 0.6, 'clf__learning_rate': 0.08}\n",
      "0.831 (+/-0.058) for {'clf__colsample_bytree': 0.6, 'clf__learning_rate': 0.1}\n",
      "0.824 (+/-0.059) for {'clf__colsample_bytree': 0.8, 'clf__learning_rate': 0.02}\n",
      "0.833 (+/-0.065) for {'clf__colsample_bytree': 0.8, 'clf__learning_rate': 0.04}\n",
      "0.834 (+/-0.052) for {'clf__colsample_bytree': 0.8, 'clf__learning_rate': 0.06}\n",
      "0.823 (+/-0.062) for {'clf__colsample_bytree': 0.8, 'clf__learning_rate': 0.08}\n",
      "0.829 (+/-0.065) for {'clf__colsample_bytree': 0.8, 'clf__learning_rate': 0.1}\n",
      "0.820 (+/-0.068) for {'clf__colsample_bytree': 1.0, 'clf__learning_rate': 0.02}\n",
      "0.837 (+/-0.057) for {'clf__colsample_bytree': 1.0, 'clf__learning_rate': 0.04}\n",
      "0.829 (+/-0.048) for {'clf__colsample_bytree': 1.0, 'clf__learning_rate': 0.06}\n",
      "0.821 (+/-0.057) for {'clf__colsample_bytree': 1.0, 'clf__learning_rate': 0.08}\n",
      "0.820 (+/-0.060) for {'clf__colsample_bytree': 1.0, 'clf__learning_rate': 0.1}\n",
      "\n",
      "Training LGBMClassifier\n",
      "\n",
      "Best parameters set found:\n",
      "\n",
      "{'clf__learning_rate': 0.08}\n",
      "\n",
      "Grid scores:\n",
      "\n",
      "0.831 (+/-0.063) for {'clf__learning_rate': 0.02}\n",
      "0.831 (+/-0.055) for {'clf__learning_rate': 0.04}\n",
      "0.829 (+/-0.054) for {'clf__learning_rate': 0.06}\n",
      "0.836 (+/-0.057) for {'clf__learning_rate': 0.08}\n",
      "0.829 (+/-0.054) for {'clf__learning_rate': 0.1}\n",
      "\n"
     ]
    }
   ],
   "source": [
    "# get the training and test sets\n",
    "X_train, X_test, y_train, y_test = train_test_split(titanic_train[features], titanic_train[target], \n",
    "                                                    test_size=0.3, random_state=1)\n",
    "\n",
    "# train all the base classifiers\n",
    "trained_models = {}\n",
    "for name, clf in classifiers.items():\n",
    "    print(\"Training {}\\n\".format(name))\n",
    "    trained_models[name] = ml.hyperparam_search(clf, parameters[name], scores, X_train, \n",
    "                                                X_test, y_train, y_test, cv_strategy[name])"
   ]
  },
  {
   "cell_type": "code",
   "execution_count": 10,
   "metadata": {},
   "outputs": [
    {
     "data": {
      "image/png": "[encoded data removed]",
      "text/plain": [
       "<Figure size 720x576 with 1 Axes>"
      ]
     },
     "metadata": {},
     "output_type": "display_data"
    }
   ],
   "source": [
    "ml.plot_roc(trained_models, X_test, y_test)"
   ]
  },
  {
   "cell_type": "markdown",
   "metadata": {},
   "source": [
    "## Nested Cross Validation"
   ]
  },
  {
   "cell_type": "code",
   "execution_count": 11,
   "metadata": {},
   "outputs": [
    {
     "name": "stdout",
     "output_type": "stream",
     "text": [
      "\n",
      "Training LogReg\n",
      "\n",
      "Best parameter set found:\n",
      "\n",
      "{'clf__C': 1.0, 'clf__penalty': 'l1'}\n",
      "\n",
      "Grid scores:\n",
      "\n",
      "0.843 for {'clf__C': 0.1, 'clf__penalty': 'l2'}\n",
      "0.775 for {'clf__C': 1.0, 'clf__penalty': 'l2'}\n",
      "0.798 for {'clf__C': 1.0, 'clf__penalty': 'l2'}\n",
      "0.764 for {'clf__C': 1.0, 'clf__penalty': 'l1'}\n",
      "0.809 for {'clf__C': 1.0, 'clf__penalty': 'l1'}\n",
      "0.798 for {'clf__C': 1.0, 'clf__penalty': 'l2'}\n",
      "0.775 for {'clf__C': 0.1, 'clf__penalty': 'l2'}\n",
      "0.697 for {'clf__C': 1.0, 'clf__penalty': 'l1'}\n",
      "0.898 for {'clf__C': 10.0, 'clf__penalty': 'l2'}\n",
      "0.795 for {'clf__C': 10.0, 'clf__penalty': 'l1'}\n",
      "\n",
      "Training SVC-RBF\n",
      "\n",
      "Best parameter set found:\n",
      "\n",
      "{'clf__C': 1.0, 'clf__gamma': 0.1}\n",
      "\n",
      "Grid scores:\n",
      "\n",
      "0.787 for {'clf__C': 1.0, 'clf__gamma': 0.1}\n",
      "0.753 for {'clf__C': 1.0, 'clf__gamma': 0.1}\n",
      "0.876 for {'clf__C': 1.0, 'clf__gamma': 0.1}\n",
      "0.820 for {'clf__C': 1.0, 'clf__gamma': 0.1}\n",
      "0.831 for {'clf__C': 10.0, 'clf__gamma': 0.1}\n",
      "0.798 for {'clf__C': 1.0, 'clf__gamma': 0.1}\n",
      "0.809 for {'clf__C': 1.0, 'clf__gamma': 0.1}\n",
      "0.831 for {'clf__C': 10.0, 'clf__gamma': 0.1}\n",
      "0.830 for {'clf__C': 1.0, 'clf__gamma': 0.1}\n",
      "0.830 for {'clf__C': 1.0, 'clf__gamma': 0.1}\n",
      "\n",
      "Training GaussianNB\n",
      "\n",
      "Best parameter set found:\n",
      "\n",
      "{}\n",
      "\n",
      "Grid scores:\n",
      "\n",
      "0.697 for {}\n",
      "0.742 for {}\n",
      "0.775 for {}\n",
      "0.753 for {}\n",
      "0.775 for {}\n",
      "0.775 for {}\n",
      "0.798 for {}\n",
      "0.809 for {}\n",
      "0.807 for {}\n",
      "0.830 for {}\n",
      "\n",
      "Training BernoulliNB\n",
      "\n",
      "Best parameter set found:\n",
      "\n",
      "{'clf__alpha': 0.001}\n",
      "\n",
      "Grid scores:\n",
      "\n",
      "0.764 for {'clf__alpha': 1.0}\n",
      "0.865 for {'clf__alpha': 0.001}\n",
      "0.730 for {'clf__alpha': 0.001}\n",
      "0.798 for {'clf__alpha': 0.001}\n",
      "0.809 for {'clf__alpha': 0.001}\n",
      "0.798 for {'clf__alpha': 0.001}\n",
      "0.798 for {'clf__alpha': 1.0}\n",
      "0.798 for {'clf__alpha': 0.001}\n",
      "0.750 for {'clf__alpha': 0.001}\n",
      "0.795 for {'clf__alpha': 0.001}\n",
      "\n",
      "Training DecisionTree\n",
      "\n",
      "Best parameter set found:\n",
      "\n",
      "{'clf__max_depth': 3}\n",
      "\n",
      "Grid scores:\n",
      "\n",
      "0.809 for {'clf__max_depth': 3}\n",
      "0.719 for {'clf__max_depth': 6}\n",
      "0.865 for {'clf__max_depth': 3}\n",
      "0.753 for {'clf__max_depth': 6}\n",
      "0.809 for {'clf__max_depth': 4}\n",
      "0.775 for {'clf__max_depth': 3}\n",
      "0.854 for {'clf__max_depth': 3}\n",
      "0.820 for {'clf__max_depth': 3}\n",
      "0.818 for {'clf__max_depth': 4}\n",
      "0.807 for {'clf__max_depth': 4}\n",
      "\n",
      "Training XGBClassifier\n",
      "\n",
      "Best parameter set found:\n",
      "\n",
      "{'clf__colsample_bytree': 0.8, 'clf__learning_rate': 0.08}\n",
      "\n",
      "Grid scores:\n",
      "\n",
      "0.775 for {'clf__colsample_bytree': 1.0, 'clf__learning_rate': 0.08}\n",
      "0.876 for {'clf__colsample_bytree': 1.0, 'clf__learning_rate': 0.08}\n",
      "0.787 for {'clf__colsample_bytree': 0.8, 'clf__learning_rate': 0.08}\n",
      "0.888 for {'clf__colsample_bytree': 0.6, 'clf__learning_rate': 0.06}\n",
      "0.708 for {'clf__colsample_bytree': 0.8, 'clf__learning_rate': 0.08}\n",
      "0.865 for {'clf__colsample_bytree': 0.8, 'clf__learning_rate': 0.04}\n",
      "0.809 for {'clf__colsample_bytree': 0.6, 'clf__learning_rate': 0.04}\n",
      "0.876 for {'clf__colsample_bytree': 0.8, 'clf__learning_rate': 0.08}\n",
      "0.773 for {'clf__colsample_bytree': 0.8, 'clf__learning_rate': 0.04}\n",
      "0.875 for {'clf__colsample_bytree': 0.4, 'clf__learning_rate': 0.1}\n",
      "\n",
      "Training LGBMClassifier\n",
      "\n",
      "Best parameter set found:\n",
      "\n",
      "{'clf__learning_rate': 0.02}\n",
      "\n",
      "Grid scores:\n",
      "\n",
      "0.854 for {'clf__learning_rate': 0.02}\n",
      "0.831 for {'clf__learning_rate': 0.08}\n",
      "0.820 for {'clf__learning_rate': 0.08}\n",
      "0.854 for {'clf__learning_rate': 0.06}\n",
      "0.843 for {'clf__learning_rate': 0.04}\n",
      "0.753 for {'clf__learning_rate': 0.02}\n",
      "0.831 for {'clf__learning_rate': 0.04}\n",
      "0.865 for {'clf__learning_rate': 0.08}\n",
      "0.875 for {'clf__learning_rate': 0.02}\n",
      "0.807 for {'clf__learning_rate': 0.04}\n"
     ]
    }
   ],
   "source": [
    "# train all the base classifiers\n",
    "best_params = {}\n",
    "for name, clf in classifiers.items():\n",
    "    print(\"\\nTraining {}\\n\".format(name))\n",
    "    best_params[name] = ml.nested_cv(clf, parameters[name], titanic_train, features, target, strategy=cv_strategy[name])\n",
    "    clf.set_params(**best_params[name])"
   ]
  },
  {
   "cell_type": "code",
   "execution_count": 12,
   "metadata": {},
   "outputs": [
    {
     "data": {
      "text/plain": [
       "{'LogReg': {'clf__C': 1.0, 'clf__penalty': 'l1'},\n",
       " 'SVC-RBF': {'clf__C': 1.0, 'clf__gamma': 0.1},\n",
       " 'GaussianNB': {},\n",
       " 'BernoulliNB': {'clf__alpha': 0.001},\n",
       " 'DecisionTree': {'clf__max_depth': 3},\n",
       " 'XGBClassifier': {'clf__colsample_bytree': 0.8, 'clf__learning_rate': 0.08},\n",
       " 'LGBMClassifier': {'clf__learning_rate': 0.02}}"
      ]
     },
     "execution_count": 12,
     "metadata": {},
     "output_type": "execute_result"
    }
   ],
   "source": [
    "best_params"
   ]
  },
  {
   "cell_type": "markdown",
   "metadata": {},
   "source": [
    "## Simple Averaged Model"
   ]
  },
  {
   "cell_type": "code",
   "execution_count": 13,
   "metadata": {},
   "outputs": [],
   "source": [
    "averaged_model = ml.AverageClassifierModels(models = classifiers.values())"
   ]
  },
  {
   "cell_type": "code",
   "execution_count": null,
   "metadata": {},
   "outputs": [],
   "source": [
    "# split the training and test set\n",
    "X_train, X_test, y_train, y_test = train_test_split(titanic_train[features], titanic_train[target], \n",
    "                                                    test_size=0.3, random_state=1)\n",
    "\n",
    "averaged_model.fit(X_train, y_train);"
   ]
  },
  {
   "cell_type": "code",
   "execution_count": null,
   "metadata": {},
   "outputs": [],
   "source": [
    "ml.plot_roc(averaged_model, X_test, y_test, name='Averaged Model')"
   ]
  },
  {
   "cell_type": "markdown",
   "metadata": {},
   "source": [
    "# Boosted Models"
   ]
  },
  {
   "cell_type": "code",
   "execution_count": null,
   "metadata": {},
   "outputs": [],
   "source": [
    "boosted_model = ml.BoostedClassifierModels(models = classifiers.values())"
   ]
  },
  {
   "cell_type": "code",
   "execution_count": null,
   "metadata": {},
   "outputs": [],
   "source": [
    "# train a boosted ensemble using different splits of the data\n",
    "boosted_model.fit(titanic_train[features], titanic_train[target]);"
   ]
  },
  {
   "cell_type": "code",
   "execution_count": null,
   "metadata": {},
   "outputs": [],
   "source": [
    "X_train, X_test, y_train, y_test = train_test_split(titanic_train[features], titanic_train[target], \n",
    "                                                    test_size=0.3, random_state=123)\n",
    "\n",
    "ml.plot_roc(boosted_model, X_test, y_test, name='Boosted Model')"
   ]
  },
  {
   "cell_type": "markdown",
   "metadata": {},
   "source": [
    "# Stacked Models"
   ]
  },
  {
   "cell_type": "code",
   "execution_count": null,
   "metadata": {},
   "outputs": [],
   "source": [
    "stacked = pd.DataFrame()"
   ]
  },
  {
   "cell_type": "code",
   "execution_count": null,
   "metadata": {},
   "outputs": [],
   "source": [
    "for name, clf in classifiers.items():\n",
    "    stacked[name] = clf.predict_proba(titanic_train[features])[:,1]\n",
    "stacked['target'] = titanic_train[target]"
   ]
  },
  {
   "cell_type": "code",
   "execution_count": null,
   "metadata": {},
   "outputs": [],
   "source": [
    "stacked.head()"
   ]
  },
  {
   "cell_type": "code",
   "execution_count": null,
   "metadata": {},
   "outputs": [],
   "source": [
    "import seaborn as sns\n",
    "sns.heatmap(stacked.corr(), annot=True);"
   ]
  },
  {
   "cell_type": "code",
   "execution_count": 53,
   "metadata": {},
   "outputs": [],
   "source": [
    "from sklearn.linear_model import LogisticRegression\n",
    "\n",
    "\n",
    "stacked_feats = list(classifiers.keys())\n",
    "target   = 'target'\n",
    "logreg = LogisticRegression()"
   ]
  },
  {
   "cell_type": "code",
   "execution_count": 54,
   "metadata": {},
   "outputs": [],
   "source": [
    "X_train, X_test, y_train, y_test = train_test_split(stacked[stacked_feats], stacked['target'], \n",
    "                                                    test_size=0.3, random_state=1)"
   ]
  },
  {
   "cell_type": "code",
   "execution_count": 58,
   "metadata": {},
   "outputs": [
    {
     "ename": "ValueError",
     "evalue": "Input contains NaN, infinity or a value too large for dtype('float64').",
     "output_type": "error",
     "traceback": [
      "\u001b[1;31m---------------------------------------------------------------------------\u001b[0m",
      "\u001b[1;31mValueError\u001b[0m                                Traceback (most recent call last)",
      "\u001b[1;32m<ipython-input-58-b49b0217b1a7>\u001b[0m in \u001b[0;36m<module>\u001b[1;34m()\u001b[0m\n\u001b[1;32m----> 1\u001b[1;33m \u001b[0mlogreg\u001b[0m\u001b[1;33m.\u001b[0m\u001b[0mfit\u001b[0m\u001b[1;33m(\u001b[0m\u001b[0mX_train\u001b[0m\u001b[1;33m,\u001b[0m \u001b[0my_train\u001b[0m\u001b[1;33m)\u001b[0m\u001b[1;33m;\u001b[0m\u001b[1;33m\u001b[0m\u001b[0m\n\u001b[0m",
      "\u001b[1;32mc:\\users\\wm735e\\appdata\\local\\programs\\python\\python36\\lib\\site-packages\\sklearn\\linear_model\\logistic.py\u001b[0m in \u001b[0;36mfit\u001b[1;34m(self, X, y, sample_weight)\u001b[0m\n\u001b[0;32m   1218\u001b[0m \u001b[1;33m\u001b[0m\u001b[0m\n\u001b[0;32m   1219\u001b[0m         X, y = check_X_y(X, y, accept_sparse='csr', dtype=_dtype,\n\u001b[1;32m-> 1220\u001b[1;33m                          order=\"C\")\n\u001b[0m\u001b[0;32m   1221\u001b[0m         \u001b[0mcheck_classification_targets\u001b[0m\u001b[1;33m(\u001b[0m\u001b[0my\u001b[0m\u001b[1;33m)\u001b[0m\u001b[1;33m\u001b[0m\u001b[0m\n\u001b[0;32m   1222\u001b[0m         \u001b[0mself\u001b[0m\u001b[1;33m.\u001b[0m\u001b[0mclasses_\u001b[0m \u001b[1;33m=\u001b[0m \u001b[0mnp\u001b[0m\u001b[1;33m.\u001b[0m\u001b[0munique\u001b[0m\u001b[1;33m(\u001b[0m\u001b[0my\u001b[0m\u001b[1;33m)\u001b[0m\u001b[1;33m\u001b[0m\u001b[0m\n",
      "\u001b[1;32mc:\\users\\wm735e\\appdata\\local\\programs\\python\\python36\\lib\\site-packages\\sklearn\\utils\\validation.py\u001b[0m in \u001b[0;36mcheck_X_y\u001b[1;34m(X, y, accept_sparse, dtype, order, copy, force_all_finite, ensure_2d, allow_nd, multi_output, ensure_min_samples, ensure_min_features, y_numeric, warn_on_dtype, estimator)\u001b[0m\n\u001b[0;32m    577\u001b[0m     \u001b[1;32melse\u001b[0m\u001b[1;33m:\u001b[0m\u001b[1;33m\u001b[0m\u001b[0m\n\u001b[0;32m    578\u001b[0m         \u001b[0my\u001b[0m \u001b[1;33m=\u001b[0m \u001b[0mcolumn_or_1d\u001b[0m\u001b[1;33m(\u001b[0m\u001b[0my\u001b[0m\u001b[1;33m,\u001b[0m \u001b[0mwarn\u001b[0m\u001b[1;33m=\u001b[0m\u001b[1;32mTrue\u001b[0m\u001b[1;33m)\u001b[0m\u001b[1;33m\u001b[0m\u001b[0m\n\u001b[1;32m--> 579\u001b[1;33m         \u001b[0m_assert_all_finite\u001b[0m\u001b[1;33m(\u001b[0m\u001b[0my\u001b[0m\u001b[1;33m)\u001b[0m\u001b[1;33m\u001b[0m\u001b[0m\n\u001b[0m\u001b[0;32m    580\u001b[0m     \u001b[1;32mif\u001b[0m \u001b[0my_numeric\u001b[0m \u001b[1;32mand\u001b[0m \u001b[0my\u001b[0m\u001b[1;33m.\u001b[0m\u001b[0mdtype\u001b[0m\u001b[1;33m.\u001b[0m\u001b[0mkind\u001b[0m \u001b[1;33m==\u001b[0m \u001b[1;34m'O'\u001b[0m\u001b[1;33m:\u001b[0m\u001b[1;33m\u001b[0m\u001b[0m\n\u001b[0;32m    581\u001b[0m         \u001b[0my\u001b[0m \u001b[1;33m=\u001b[0m \u001b[0my\u001b[0m\u001b[1;33m.\u001b[0m\u001b[0mastype\u001b[0m\u001b[1;33m(\u001b[0m\u001b[0mnp\u001b[0m\u001b[1;33m.\u001b[0m\u001b[0mfloat64\u001b[0m\u001b[1;33m)\u001b[0m\u001b[1;33m\u001b[0m\u001b[0m\n",
      "\u001b[1;32mc:\\users\\wm735e\\appdata\\local\\programs\\python\\python36\\lib\\site-packages\\sklearn\\utils\\validation.py\u001b[0m in \u001b[0;36m_assert_all_finite\u001b[1;34m(X)\u001b[0m\n\u001b[0;32m     42\u001b[0m             and not np.isfinite(X).all()):\n\u001b[0;32m     43\u001b[0m         raise ValueError(\"Input contains NaN, infinity\"\n\u001b[1;32m---> 44\u001b[1;33m                          \" or a value too large for %r.\" % X.dtype)\n\u001b[0m\u001b[0;32m     45\u001b[0m \u001b[1;33m\u001b[0m\u001b[0m\n\u001b[0;32m     46\u001b[0m \u001b[1;33m\u001b[0m\u001b[0m\n",
      "\u001b[1;31mValueError\u001b[0m: Input contains NaN, infinity or a value too large for dtype('float64')."
     ]
    }
   ],
   "source": [
    "logreg.fit(X_train, y_train);"
   ]
  },
  {
   "cell_type": "code",
   "execution_count": null,
   "metadata": {},
   "outputs": [],
   "source": [
    "clf.predict_proba(titanic_train[features])[:,1]"
   ]
  }
 ],
 "metadata": {
  "kernelspec": {
   "display_name": "Python 3",
   "language": "python",
   "name": "python3"
  },
  "language_info": {
   "codemirror_mode": {
    "name": "ipython",
    "version": 3
   },
   "file_extension": ".py",
   "mimetype": "text/x-python",
   "name": "python",
   "nbconvert_exporter": "python",
   "pygments_lexer": "ipython3",
   "version": "3.6.5"
  }
 },
 "nbformat": 4,
 "nbformat_minor": 2
}
